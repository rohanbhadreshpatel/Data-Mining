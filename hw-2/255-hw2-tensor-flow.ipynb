{
  "nbformat": 4,
  "nbformat_minor": 0,
  "metadata": {
    "colab": {
      "provenance": [],
      "toc_visible": true
    },
    "kernelspec": {
      "name": "python3",
      "display_name": "Python 3"
    },
    "accelerator": "GPU",
    "gpuClass": "standard"
  },
  "cells": [
    {
      "cell_type": "markdown",
      "metadata": {
        "id": "yb2QvwBNCMir"
      },
      "source": [
        "# Iris Dataset\n",
        "https://www.tensorflow.org/tutorials/customization/custom_training_walkthrough\n",
        "https://colab.research.google.com/github/tensorflow/docs/blob/master/site/en/tutorials/customization/custom_training_walkthrough.ipynb"
      ]
    },
    {
      "cell_type": "code",
      "metadata": {
        "id": "GyLV65xtHRF_",
        "colab": {
          "base_uri": "https://localhost:8080/"
        },
        "outputId": "b01e0828-6852-4d1e-a652-b79671e7a89a"
      },
      "source": [
        "import os\n",
        "import matplotlib.pyplot as plt\n",
        "import tensorflow as tf\n",
        "print(\"TensorFlow version: {}\".format(tf.__version__))\n",
        "print(\"Eager execution: {}\".format(tf.executing_eagerly()))"
      ],
      "execution_count": null,
      "outputs": [
        {
          "output_type": "stream",
          "name": "stdout",
          "text": [
            "TensorFlow version: 2.9.2\n",
            "Eager execution: True\n"
          ]
        }
      ]
    },
    {
      "cell_type": "markdown",
      "metadata": {
        "id": "nEIlX8nAHXmS"
      },
      "source": [
        "The Iris classification problem\n",
        "Imagine you are a botanist seeking an automated way to categorize each Iris flower you find. Machine learning provides many algorithms to classify flowers statistically. For instance, a sophisticated machine learning program could classify flowers based on photographs. Our ambitions are more modest—we're going to classify Iris flowers based on the length and width measurements of their sepals and petals.\n",
        "The Iris genus entails about 300 species, but our program will only classify the following three:\n",
        "Iris setosa,\n",
        "Iris virginica,\n",
        "Iris versicolor,\n",
        "\n",
        "\n",
        "Fortunately, someone has already created a dataset of 120 Iris flowers with the sepal and petal measurements. This is a classic dataset that is popular for beginner machine learning classification problems."
      ]
    },
    {
      "cell_type": "markdown",
      "metadata": {
        "id": "3dbbl78YH0pq"
      },
      "source": [
        "Download the dataset\n",
        "\n",
        "Download the training dataset file using the tf.keras.utils.get_file function. This returns the file path of the downloaded file:"
      ]
    },
    {
      "cell_type": "code",
      "metadata": {
        "id": "yd4ZYg62HYnw",
        "colab": {
          "base_uri": "https://localhost:8080/"
        },
        "outputId": "ed05d29a-8d98-4ae7-8cc2-fd8f735e770c"
      },
      "source": [
        "train_dataset_url = \"https://storage.googleapis.com/download.tensorflow.org/data/iris_training.csv\"\n",
        "\n",
        "train_dataset_fp = tf.keras.utils.get_file(fname=os.path.basename(train_dataset_url),\n",
        "                                           origin=train_dataset_url)\n",
        "\n",
        "print(\"Local copy of the dataset file: {}\".format(train_dataset_fp))"
      ],
      "execution_count": null,
      "outputs": [
        {
          "output_type": "stream",
          "name": "stdout",
          "text": [
            "Downloading data from https://storage.googleapis.com/download.tensorflow.org/data/iris_training.csv\n",
            "2194/2194 [==============================] - 0s 0us/step\n",
            "Local copy of the dataset file: /root/.keras/datasets/iris_training.csv\n"
          ]
        }
      ]
    },
    {
      "cell_type": "code",
      "metadata": {
        "id": "eylUS7JoRyI3",
        "colab": {
          "base_uri": "https://localhost:8080/",
          "height": 35
        },
        "outputId": "1cda1d79-f598-489a-b7aa-b21f47fa9b09"
      },
      "source": [
        "train_dataset_fp"
      ],
      "execution_count": null,
      "outputs": [
        {
          "output_type": "execute_result",
          "data": {
            "text/plain": [
              "'/root/.keras/datasets/iris_training.csv'"
            ],
            "application/vnd.google.colaboratory.intrinsic+json": {
              "type": "string"
            }
          },
          "metadata": {},
          "execution_count": 3
        }
      ]
    },
    {
      "cell_type": "code",
      "metadata": {
        "id": "-Rcyuvl4QksL",
        "colab": {
          "base_uri": "https://localhost:8080/"
        },
        "outputId": "adba2464-01ba-40a3-a4b3-347a83a1ea92"
      },
      "source": [
        "!head -n5 {train_dataset_fp}\n",
        "#The first line is a header containing information about the dataset: There are 120 total examples. Each example has four features and one of three possible label names.\n",
        "#Subsequent rows are data records, one *example* per line, where: The first four fields are *features*: these are the characteristics of an example. Here, the fields hold float numbers representing flower measurements.\n",
        "#The last column is the *label*: this is the value we want to predict. For this dataset, it's an integer value of 0, 1, or 2 that corresponds to a flower name."
      ],
      "execution_count": null,
      "outputs": [
        {
          "output_type": "stream",
          "name": "stdout",
          "text": [
            "120,4,setosa,versicolor,virginica\n",
            "6.4,2.8,5.6,2.2,2\n",
            "5.0,2.3,3.3,1.0,1\n",
            "4.9,2.5,4.5,1.7,2\n",
            "4.9,3.1,1.5,0.1,0\n"
          ]
        }
      ]
    },
    {
      "cell_type": "code",
      "metadata": {
        "id": "z450KdUiSZlv",
        "colab": {
          "base_uri": "https://localhost:8080/"
        },
        "outputId": "a11752bb-00e5-4270-9fb0-901ceefb17d9"
      },
      "source": [
        "# column order in CSV file\n",
        "column_names = ['sepal_length', 'sepal_width', 'petal_length', 'petal_width', 'species']\n",
        "\n",
        "feature_names = column_names[:-1]\n",
        "label_name = column_names[-1]\n",
        "\n",
        "print(\"Features: {}\".format(feature_names))\n",
        "print(\"Label: {}\".format(label_name))"
      ],
      "execution_count": null,
      "outputs": [
        {
          "output_type": "stream",
          "name": "stdout",
          "text": [
            "Features: ['sepal_length', 'sepal_width', 'petal_length', 'petal_width']\n",
            "Label: species\n"
          ]
        }
      ]
    },
    {
      "cell_type": "markdown",
      "metadata": {
        "id": "-y2p7A2cSgVi"
      },
      "source": [
        "Each label is associated with string name (for example, \"setosa\"), but machine learning typically relies on numeric values. The label numbers are mapped to a named representation, such as:\n",
        "0: Iris setosa\n",
        "1: Iris versicolor\n",
        "2: Iris virginica"
      ]
    },
    {
      "cell_type": "code",
      "metadata": {
        "id": "M-rTbMZmSmrz"
      },
      "source": [
        "class_names = ['Iris setosa', 'Iris versicolor', 'Iris virginica']"
      ],
      "execution_count": null,
      "outputs": []
    },
    {
      "cell_type": "markdown",
      "metadata": {
        "id": "QhDiEpJWS0iO"
      },
      "source": [
        "## Create a tf.data.Dataset\n",
        "\n",
        "TensorFlow's Dataset API handles many common cases for loading data into a model. This is a high-level API for reading data and transforming it into a form used for training.\n",
        "Since the dataset is a CSV-formatted text file, use the tf.data.experimental.make_csv_dataset function to parse the data into a suitable format. Since this function generates data for training models, the default behavior is to shuffle the data (shuffle=True, shuffle_buffer_size=10000), and repeat the dataset forever (num_epochs=None). We also set the batch_size parameter:"
      ]
    },
    {
      "cell_type": "code",
      "metadata": {
        "id": "X41bQaXrS39c"
      },
      "source": [
        "batch_size = 32\n",
        "\n",
        "#The make_csv_dataset function returns a tf.data.Dataset of (features, label) pairs, where features is a dictionary: {'feature_name': value}\n",
        "train_dataset = tf.data.experimental.make_csv_dataset(\n",
        "    train_dataset_fp,#csv file path\n",
        "    batch_size,\n",
        "    column_names=column_names,\n",
        "    label_name=label_name,\n",
        "    num_epochs=1)"
      ],
      "execution_count": null,
      "outputs": []
    },
    {
      "cell_type": "code",
      "metadata": {
        "id": "qhBu3_dATEam",
        "colab": {
          "base_uri": "https://localhost:8080/"
        },
        "outputId": "41edd949-12dc-4911-a17f-cc9aad6ef887"
      },
      "source": [
        "features, labels = next(iter(train_dataset))\n",
        "print(\"Features:\", features)\n",
        "print(\"Labels:\", labels)"
      ],
      "execution_count": null,
      "outputs": [
        {
          "output_type": "stream",
          "name": "stdout",
          "text": [
            "Features: OrderedDict([('sepal_length', <tf.Tensor: shape=(32,), dtype=float32, numpy=\n",
            "array([4.5, 6.4, 6.1, 5.5, 5.9, 6.3, 5. , 6.3, 6. , 5.5, 4.7, 5.5, 6.4,\n",
            "       6.8, 6.4, 5.8, 5.9, 7.2, 5.5, 6.4, 6. , 6. , 6.5, 6.3, 7.4, 5.4,\n",
            "       6.1, 5.4, 6.5, 5. , 5.7, 4.9], dtype=float32)>), ('sepal_width', <tf.Tensor: shape=(32,), dtype=float32, numpy=\n",
            "array([2.3, 2.8, 2.6, 2.4, 3. , 3.3, 3.2, 2.3, 2.2, 2.4, 3.2, 3.5, 2.8,\n",
            "       2.8, 3.2, 2.7, 3.2, 3.2, 2.6, 2.7, 3. , 2.9, 3. , 2.7, 2.8, 3.7,\n",
            "       2.8, 3. , 2.8, 3.6, 4.4, 2.5], dtype=float32)>), ('petal_length', <tf.Tensor: shape=(32,), dtype=float32, numpy=\n",
            "array([1.3, 5.6, 5.6, 3.8, 5.1, 6. , 1.2, 4.4, 5. , 3.7, 1.6, 1.3, 5.6,\n",
            "       4.8, 5.3, 4.1, 4.8, 6. , 4.4, 5.3, 4.8, 4.5, 5.2, 4.9, 6.1, 1.5,\n",
            "       4. , 4.5, 4.6, 1.4, 1.5, 4.5], dtype=float32)>), ('petal_width', <tf.Tensor: shape=(32,), dtype=float32, numpy=\n",
            "array([0.3, 2.2, 1.4, 1.1, 1.8, 2.5, 0.2, 1.3, 1.5, 1. , 0.2, 0.2, 2.1,\n",
            "       1.4, 2.3, 1. , 1.8, 1.8, 1.2, 1.9, 1.8, 1.5, 2. , 1.8, 1.9, 0.2,\n",
            "       1.3, 1.5, 1.5, 0.2, 0.4, 1.7], dtype=float32)>)])\n",
            "Labels: tf.Tensor([0 2 2 1 2 2 0 1 2 1 0 0 2 1 2 1 1 2 1 2 2 1 2 2 2 0 1 1 1 0 0 2], shape=(32,), dtype=int32)\n"
          ]
        }
      ]
    },
    {
      "cell_type": "code",
      "metadata": {
        "id": "ucbIXcb0Te87",
        "colab": {
          "base_uri": "https://localhost:8080/",
          "height": 280
        },
        "outputId": "f76e203e-b61a-4a9d-c635-bebf441c2df2"
      },
      "source": [
        "plt.scatter(features['petal_length'],\n",
        "            features['sepal_length'],\n",
        "            c=labels,\n",
        "            cmap='viridis')\n",
        "\n",
        "plt.xlabel(\"Petal length\")\n",
        "plt.ylabel(\"Sepal length\")\n",
        "plt.show()"
      ],
      "execution_count": null,
      "outputs": [
        {
          "output_type": "display_data",
          "data": {
            "text/plain": [
              "<Figure size 432x288 with 1 Axes>"
            ],
            "image/png": "[encoded data removed]"
          },
          "metadata": {
            "needs_background": "light"
          }
        }
      ]
    },
    {
      "cell_type": "code",
      "metadata": {
        "id": "cKjOgmUBTmqq"
      },
      "source": [
        "#To simplify the model building step, create a function to repackage the features dictionary into a single array with shape: (batch_size, num_features).\n",
        "#This function uses the tf.stack method which takes values from a list of tensors and creates a combined tensor at the specified dimension:\n",
        "def pack_features_vector(features, labels):\n",
        "  \"\"\"Pack the features into a single array.\"\"\"\n",
        "  features = tf.stack(list(features.values()), axis=1)\n",
        "  return features, labels"
      ],
      "execution_count": null,
      "outputs": []
    },
    {
      "cell_type": "code",
      "metadata": {
        "id": "RP3bX_nAUMlv"
      },
      "source": [
        "#Then use the tf.data.Dataset#map method to pack the features of each (features,label) pair into the training dataset:\n",
        "train_dataset = train_dataset.map(pack_features_vector)"
      ],
      "execution_count": null,
      "outputs": []
    },
    {
      "cell_type": "code",
      "metadata": {
        "id": "vWV-gXAIUY5H",
        "colab": {
          "base_uri": "https://localhost:8080/"
        },
        "outputId": "d850725e-7eba-4ad0-a82c-801bd6f2d518"
      },
      "source": [
        "features, labels = next(iter(train_dataset))\n",
        "print(\"Features:\", features) #Features have been packed together\n",
        "print(\"Labels:\", labels)"
      ],
      "execution_count": null,
      "outputs": [
        {
          "output_type": "stream",
          "name": "stdout",
          "text": [
            "Features: tf.Tensor(\n",
            "[[7.3 2.9 6.3 1.8]\n",
            " [4.9 3.1 1.5 0.1]\n",
            " [6.7 3.  5.2 2.3]\n",
            " [5.5 2.4 3.7 1. ]\n",
            " [6.1 2.8 4.  1.3]\n",
            " [7.  3.2 4.7 1.4]\n",
            " [5.1 3.8 1.9 0.4]\n",
            " [6.6 2.9 4.6 1.3]\n",
            " [6.2 2.8 4.8 1.8]\n",
            " [6.4 3.2 4.5 1.5]\n",
            " [6.7 3.3 5.7 2.1]\n",
            " [6.9 3.1 4.9 1.5]\n",
            " [5.4 3.  4.5 1.5]\n",
            " [7.2 3.6 6.1 2.5]\n",
            " [5.5 2.4 3.8 1.1]\n",
            " [6.2 3.4 5.4 2.3]\n",
            " [5.8 2.7 5.1 1.9]\n",
            " [7.2 3.  5.8 1.6]\n",
            " [5.  3.3 1.4 0.2]\n",
            " [6.7 3.  5.  1.7]\n",
            " [6.3 2.5 5.  1.9]\n",
            " [6.8 3.  5.5 2.1]\n",
            " [5.7 3.8 1.7 0.3]\n",
            " [6.  2.7 5.1 1.6]\n",
            " [6.7 3.1 5.6 2.4]\n",
            " [6.8 3.2 5.9 2.3]\n",
            " [6.3 2.7 4.9 1.8]\n",
            " [5.2 3.5 1.5 0.2]\n",
            " [5.1 3.8 1.6 0.2]\n",
            " [6.9 3.2 5.7 2.3]\n",
            " [6.  3.  4.8 1.8]\n",
            " [6.5 3.  5.8 2.2]], shape=(32, 4), dtype=float32)\n",
            "Labels: tf.Tensor([2 0 2 1 1 1 0 1 2 1 2 1 1 2 1 2 2 2 0 1 2 2 0 1 2 2 2 0 0 2 2 2], shape=(32,), dtype=int32)\n"
          ]
        }
      ]
    },
    {
      "cell_type": "code",
      "metadata": {
        "id": "ieRzYMKhUuCM",
        "colab": {
          "base_uri": "https://localhost:8080/"
        },
        "outputId": "0655dd1d-e2b5-455e-99ce-57e8f16ae4e8"
      },
      "source": [
        "#The features element of the Dataset are now arrays with shape (batch_size, num_features). Let's look at the first few examples:\n",
        "features, labels = next(iter(train_dataset))\n",
        "print(features[:5])"
      ],
      "execution_count": null,
      "outputs": [
        {
          "output_type": "stream",
          "name": "stdout",
          "text": [
            "tf.Tensor(\n",
            "[[7.7 2.8 6.7 2. ]\n",
            " [5.1 3.8 1.5 0.3]\n",
            " [5.6 2.7 4.2 1.3]\n",
            " [5.8 2.8 5.1 2.4]\n",
            " [6.  2.2 5.  1.5]], shape=(5, 4), dtype=float32)\n"
          ]
        }
      ]
    },
    {
      "cell_type": "markdown",
      "metadata": {
        "id": "gbxkGaRqVAFP"
      },
      "source": [
        "##Create a model using Keras"
      ]
    },
    {
      "cell_type": "code",
      "metadata": {
        "id": "6ZmFUUUeU_eb"
      },
      "source": [
        "model = tf.keras.Sequential([\n",
        "  tf.keras.layers.Dense(10, activation=tf.nn.relu, input_shape=(4,)),  # input shape required\n",
        "  tf.keras.layers.Dense(10, activation=tf.nn.relu),\n",
        "  tf.keras.layers.Dense(3)\n",
        "])"
      ],
      "execution_count": null,
      "outputs": []
    },
    {
      "cell_type": "code",
      "metadata": {
        "id": "d4dzW97eVTVo",
        "colab": {
          "base_uri": "https://localhost:8080/"
        },
        "outputId": "04ffe281-1a38-4a77-c4e3-26f0bc002ff1"
      },
      "source": [
        "predictions = model(features)#input one batch of features\n",
        "predictions[:5]#each example returns a logit for each class."
      ],
      "execution_count": null,
      "outputs": [
        {
          "output_type": "execute_result",
          "data": {
            "text/plain": [
              "<tf.Tensor: shape=(5, 3), dtype=float32, numpy=\n",
              "array([[-1.1075015,  2.9146588,  2.8211162],\n",
              "       [-1.4697618,  1.3265725,  2.4220803],\n",
              "       [-1.1197518,  1.9175291,  2.2785268],\n",
              "       [-1.4108062,  1.6008711,  2.413423 ],\n",
              "       [-0.8508687,  2.2192984,  2.1845677]], dtype=float32)>"
            ]
          },
          "metadata": {},
          "execution_count": 15
        }
      ]
    },
    {
      "cell_type": "code",
      "metadata": {
        "id": "6G4vhq_6VdnO",
        "colab": {
          "base_uri": "https://localhost:8080/"
        },
        "outputId": "31e1d1aa-f325-4381-cfa8-1ee4c96db682"
      },
      "source": [
        "#To convert these logits to a probability for each class, use the softmax function:\n",
        "tf.nn.softmax(predictions[:5])"
      ],
      "execution_count": null,
      "outputs": [
        {
          "output_type": "execute_result",
          "data": {
            "text/plain": [
              "<tf.Tensor: shape=(5, 3), dtype=float32, numpy=\n",
              "array([[0.00928865, 0.51850724, 0.47220418],\n",
              "       [0.01506352, 0.2468079 , 0.7381286 ],\n",
              "       [0.01931955, 0.4027832 , 0.5778973 ],\n",
              "       [0.01489892, 0.3027678 , 0.6823333 ],\n",
              "       [0.02306509, 0.496949  , 0.4799859 ]], dtype=float32)>"
            ]
          },
          "metadata": {},
          "execution_count": 16
        }
      ]
    },
    {
      "cell_type": "code",
      "metadata": {
        "id": "CQNqfRVCVvqV",
        "colab": {
          "base_uri": "https://localhost:8080/"
        },
        "outputId": "e8e8d571-b033-4b68-e53c-c16ae615c344"
      },
      "source": [
        "#Taking the tf.argmax across classes gives us the predicted class index. But, the model hasn't been trained yet, so these aren't good predictions:\n",
        "print(\"Prediction: {}\".format(tf.argmax(predictions, axis=1)))\n",
        "print(\"    Labels: {}\".format(labels))"
      ],
      "execution_count": null,
      "outputs": [
        {
          "output_type": "stream",
          "name": "stdout",
          "text": [
            "Prediction: [1 2 2 2 1 2 2 2 2 1 2 2 2 2 2 2 2 2 2 2 2 2 2 2 2 2 2 2 2 2 2 2]\n",
            "    Labels: [2 0 1 2 2 1 0 0 2 2 1 2 1 2 1 1 2 1 2 0 0 2 1 0 1 0 0 2 2 1 2 0]\n"
          ]
        }
      ]
    },
    {
      "cell_type": "markdown",
      "metadata": {
        "id": "81UAyTcuV3nZ"
      },
      "source": [
        "## Create the model"
      ]
    },
    {
      "cell_type": "markdown",
      "metadata": {
        "id": "-PSm9gd2YEuY"
      },
      "source": [
        "Use tf.keras.losses.CategoricalCrossentropy: We expect labels to be provided in a one_hot representation\n",
        "Use tf.keras.losses.SparseCategoricalCrossentropy: We expect labels to be provided as integers."
      ]
    },
    {
      "cell_type": "code",
      "metadata": {
        "id": "__npJqZDWBat"
      },
      "source": [
        "#https://www.tensorflow.org/api_docs/python/tf/keras/losses/SparseCategoricalCrossentropy\n",
        "#Use this crossentropy loss function when there are two or more label classes.\n",
        "loss_object = tf.keras.losses.SparseCategoricalCrossentropy(from_logits=True)\n",
        "#Whether y_pred is expected to be a logits tensor. By default, we assume that y_pred encodes a probability distribution. Default from_logits=False,\n",
        "#from_logits=True: Pushing the \"softmax\" activation into the cross-entropy loss layer significantly simplifies the loss computation and makes it more numerically stable."
      ],
      "execution_count": null,
      "outputs": []
    },
    {
      "cell_type": "code",
      "metadata": {
        "id": "P3mW4HNDYkI-",
        "colab": {
          "base_uri": "https://localhost:8080/"
        },
        "outputId": "76bf4e54-097a-45ad-fce2-ea4a187ae101"
      },
      "source": [
        "def loss(model, x, y, training):\n",
        "  # training=True is needed only if there are layers with different\n",
        "  # behavior during training versus inference (e.g. Dropout).\n",
        "  y_ = model(x, training=training)\n",
        "\n",
        "  return loss_object(y_true=y, y_pred=y_)\n",
        "\n",
        "\n",
        "l = loss(model, features, labels, training=False)\n",
        "print(\"Loss test: {}\".format(l))"
      ],
      "execution_count": null,
      "outputs": [
        {
          "output_type": "stream",
          "name": "stdout",
          "text": [
            "Loss test: 1.6077046394348145\n"
          ]
        }
      ]
    },
    {
      "cell_type": "code",
      "metadata": {
        "id": "1HzsCiZQYrVJ"
      },
      "source": [
        "#Use the tf.GradientTape context to calculate the *gradients* used to optimize your model:\n",
        "def grad(model, inputs, targets):\n",
        "  with tf.GradientTape() as tape:\n",
        "    loss_value = loss(model, inputs, targets, training=True)\n",
        "  return loss_value, tape.gradient(loss_value, model.trainable_variables)"
      ],
      "execution_count": null,
      "outputs": []
    },
    {
      "cell_type": "code",
      "metadata": {
        "id": "IPVoRNgyY2k4"
      },
      "source": [
        "optimizer = tf.keras.optimizers.SGD(learning_rate=0.01)"
      ],
      "execution_count": null,
      "outputs": []
    },
    {
      "cell_type": "code",
      "metadata": {
        "id": "31-8e_DhY5xk",
        "colab": {
          "base_uri": "https://localhost:8080/"
        },
        "outputId": "d4677e8b-a0bf-433a-e381-ccaa5eed7ea2"
      },
      "source": [
        "#calculate a single optimization step:\n",
        "loss_value, grads = grad(model, features, labels)\n",
        "\n",
        "print(\"Step: {}, Initial Loss: {}\".format(optimizer.iterations.numpy(),\n",
        "                                          loss_value.numpy()))\n",
        "\n",
        "optimizer.apply_gradients(zip(grads, model.trainable_variables))\n",
        "\n",
        "print(\"Step: {},         Loss: {}\".format(optimizer.iterations.numpy(),\n",
        "                                          loss(model, features, labels, training=True).numpy()))"
      ],
      "execution_count": null,
      "outputs": [
        {
          "output_type": "stream",
          "name": "stdout",
          "text": [
            "Step: 0, Initial Loss: 1.6077046394348145\n",
            "Step: 1,         Loss: 1.5461535453796387\n"
          ]
        }
      ]
    },
    {
      "cell_type": "markdown",
      "metadata": {
        "id": "tJqmJkcgcN7-"
      },
      "source": [
        "## Training loop"
      ]
    },
    {
      "cell_type": "code",
      "metadata": {
        "id": "yGC4997hcPmc"
      },
      "source": [
        "## Note: Rerunning this cell uses the same model variables\n",
        "# Keep results for plotting\n",
        "train_loss_results = []\n",
        "train_accuracy_results = []\n",
        "\n",
        "def train(flag):\n",
        "  num_epochs = 201\n",
        "\n",
        "  for epoch in range(num_epochs):\n",
        "    epoch_loss_avg = tf.keras.metrics.Mean()\n",
        "    epoch_accuracy = tf.keras.metrics.SparseCategoricalAccuracy()\n",
        "\n",
        "    # Training loop - using batches of 32\n",
        "    for x, y in train_dataset:\n",
        "      # Optimize the model\n",
        "      loss_value, grads = grad(model, x, y)\n",
        "      optimizer.apply_gradients(zip(grads, model.trainable_variables))\n",
        "\n",
        "      # Track progress\n",
        "      epoch_loss_avg.update_state(loss_value)  # Add current batch loss\n",
        "      # Compare predicted label to actual label\n",
        "      # training=True is needed only if there are layers with different\n",
        "      # behavior during training versus inference (e.g. Dropout).\n",
        "      epoch_accuracy.update_state(y, model(x, training=True))\n",
        "\n",
        "    # End epoch\n",
        "    train_loss_results.append(epoch_loss_avg.result())\n",
        "    train_accuracy_results.append(epoch_accuracy.result())\n",
        "\n",
        "    if flag and epoch % 50 == 0:\n",
        "      print(\"Epoch {:03d}: Loss: {:.3f}, Accuracy: {:.3%}\".format(epoch,\n",
        "                                                                  epoch_loss_avg.result(),\n",
        "                                                                  epoch_accuracy.result()))"
      ],
      "execution_count": null,
      "outputs": []
    },
    {
      "cell_type": "code",
      "metadata": {
        "id": "_hgvxLlUcZXJ"
      },
      "source": [
        "def train_metrics():\n",
        "  fig, axes = plt.subplots(2, sharex=True, figsize=(12, 8))\n",
        "  fig.suptitle('Training Metrics')\n",
        "\n",
        "  axes[0].set_ylabel(\"Loss\", fontsize=14)\n",
        "  axes[0].plot(train_loss_results)\n",
        "\n",
        "  axes[1].set_ylabel(\"Accuracy\", fontsize=14)\n",
        "  axes[1].set_xlabel(\"Epoch\", fontsize=14)\n",
        "  axes[1].plot(train_accuracy_results)\n",
        "  plt.show()"
      ],
      "execution_count": null,
      "outputs": []
    },
    {
      "cell_type": "markdown",
      "metadata": {
        "id": "j7iWsDSqchGt"
      },
      "source": [
        "## Get the test dataset"
      ]
    },
    {
      "cell_type": "code",
      "metadata": {
        "id": "d_CewOTScjTl"
      },
      "source": [
        "def test(flag):\n",
        "  test_url = \"https://storage.googleapis.com/download.tensorflow.org/data/iris_test.csv\"\n",
        "\n",
        "  test_fp = tf.keras.utils.get_file(fname=os.path.basename(test_url),\n",
        "                                    origin=test_url)\n",
        "  test_dataset = tf.data.experimental.make_csv_dataset(\n",
        "      test_fp,\n",
        "      batch_size,\n",
        "      column_names=column_names,\n",
        "      label_name='species',\n",
        "      num_epochs=1,\n",
        "      shuffle=False)\n",
        "\n",
        "  test_dataset = test_dataset.map(pack_features_vector)\n",
        "  #Evaluate the model on the test dataset\n",
        "  test_accuracy = tf.keras.metrics.Accuracy()\n",
        "\n",
        "  for (x, y) in test_dataset:\n",
        "    # training=False is needed only if there are layers with different\n",
        "    # behavior during training versus inference (e.g. Dropout).\n",
        "    logits = model(x, training=False)\n",
        "    prediction = tf.argmax(logits, axis=1, output_type=tf.int32)\n",
        "    test_accuracy(prediction, y)\n",
        "\n",
        "  if flag:\n",
        "    print(\"Test set accuracy: {:.3%}\".format(test_accuracy.result()))\n",
        "    print(prediction)\n",
        "  tf.stack([y,prediction],axis=1)"
      ],
      "execution_count": null,
      "outputs": []
    },
    {
      "cell_type": "code",
      "metadata": {
        "id": "qeV8tyXedDsu"
      },
      "source": [
        "#Use the trained model to make predictions\n",
        "def predict(flag):\n",
        "  predict_dataset = tf.convert_to_tensor([\n",
        "      [5.1, 3.3, 1.7, 0.5,],\n",
        "      [5.9, 3.0, 4.2, 1.5,],\n",
        "      [6.9, 3.1, 5.4, 2.1]\n",
        "  ])\n",
        "\n",
        "  # training=False is needed only if there are layers with different\n",
        "  # behavior during training versus inference (e.g. Dropout).\n",
        "  predictions = model(predict_dataset, training=False)\n",
        "\n",
        "  for i, logits in enumerate(predictions):\n",
        "    class_idx = tf.argmax(logits).numpy()\n",
        "    p = tf.nn.softmax(logits)[class_idx]\n",
        "    name = class_names[class_idx]\n",
        "    if flag:\n",
        "      print(\"Example {} prediction: {} ({:4.1f}%)\".format(i, name, 100*p))"
      ],
      "execution_count": null,
      "outputs": []
    },
    {
      "cell_type": "markdown",
      "source": [
        "# Observe TensorFlow speedup on GPU relative to CPU"
      ],
      "metadata": {
        "id": "jWEVWo7f-bkm"
      }
    },
    {
      "cell_type": "code",
      "source": [
        "def cpu(flag):\n",
        "  with tf.device('/cpu:0'):\n",
        "    if flag:\n",
        "      print(\"Training...\")\n",
        "    train(flag)\n",
        "    if flag:\n",
        "      print(\"Training Metrics:\")\n",
        "      train_metrics()\n",
        "      print(\"Testing...\")\n",
        "    test(flag)\n",
        "    if flag:\n",
        "      print(\"Prediction Results:\")\n",
        "    predict(flag)\n",
        "\n",
        "device_name = tf.test.gpu_device_name()\n",
        "if device_name != '/device:GPU:0':\n",
        "  print(\n",
        "      '\\n\\nThis error most likely means that this notebook is not '\n",
        "      'configured to use a GPU.  Change this in Notebook Settings via the '\n",
        "      'command palette (cmd/ctrl-shift-P) or the Edit menu.\\n\\n')\n",
        "  raise SystemError('GPU device not found')\n",
        "\n",
        "def gpu(flag):\n",
        "  with tf.device('/device:GPU:0'):\n",
        "    if flag:\n",
        "      print(\"Training...\")\n",
        "    train(flag)\n",
        "    if flag:\n",
        "      print(\"Training Metrics:\")\n",
        "      train_metrics()\n",
        "      print(\"Testing...\")\n",
        "    test(flag)\n",
        "    if flag:\n",
        "      print(\"Prediction Results:\")\n",
        "    predict(flag)"
      ],
      "metadata": {
        "id": "AaXPZhiH8kOU"
      },
      "execution_count": null,
      "outputs": []
    },
    {
      "cell_type": "code",
      "source": [
        "print(\"RESULTS FOR CPU:\\n\")\n",
        "cpu(True)"
      ],
      "metadata": {
        "colab": {
          "base_uri": "https://localhost:8080/",
          "height": 879
        },
        "id": "TnoCMWRQ9eBb",
        "outputId": "d702883d-80d0-4cc8-e4ee-7c57eafd019a"
      },
      "execution_count": null,
      "outputs": [
        {
          "output_type": "stream",
          "name": "stdout",
          "text": [
            "RESULTS FOR CPU:\n",
            "\n",
            "Training...\n",
            "Epoch 000: Loss: 1.626, Accuracy: 40.833%\n",
            "Epoch 050: Loss: 0.496, Accuracy: 86.667%\n",
            "Epoch 100: Loss: 0.304, Accuracy: 96.667%\n",
            "Epoch 150: Loss: 0.199, Accuracy: 96.667%\n",
            "Epoch 200: Loss: 0.153, Accuracy: 97.500%\n",
            "Training Metrics:\n"
          ]
        },
        {
          "output_type": "display_data",
          "data": {
            "text/plain": [
              "<Figure size 864x576 with 2 Axes>"
            ],
            "image/png": "[encoded data removed]"
          },
          "metadata": {
            "needs_background": "light"
          }
        },
        {
          "output_type": "stream",
          "name": "stdout",
          "text": [
            "Testing...\n",
            "Downloading data from https://storage.googleapis.com/download.tensorflow.org/data/iris_test.csv\n",
            "573/573 [==============================] - 0s 0us/step\n",
            "Test set accuracy: 93.333%\n",
            "tf.Tensor([1 2 0 1 1 1 0 2 1 2 2 0 2 1 1 0 1 0 0 2 0 2 2 2 1 1 0 1 2 1], shape=(30,), dtype=int32)\n",
            "Prediction Results:\n",
            "Example 0 prediction: Iris setosa (97.1%)\n",
            "Example 1 prediction: Iris versicolor (79.8%)\n",
            "Example 2 prediction: Iris virginica (83.7%)\n"
          ]
        }
      ]
    },
    {
      "cell_type": "code",
      "source": [
        "print(\"RESULTS FOR GPU:\\n\")\n",
        "gpu(True)"
      ],
      "metadata": {
        "colab": {
          "base_uri": "https://localhost:8080/",
          "height": 844
        },
        "id": "Yiv3qtSO967N",
        "outputId": "b1d9a3c6-09df-44a7-f37d-d03c15f342d2"
      },
      "execution_count": null,
      "outputs": [
        {
          "output_type": "stream",
          "name": "stdout",
          "text": [
            "RESULTS FOR GPU:\n",
            "\n",
            "Training...\n",
            "Epoch 000: Loss: 0.150, Accuracy: 96.667%\n",
            "Epoch 050: Loss: 0.146, Accuracy: 97.500%\n",
            "Epoch 100: Loss: 0.100, Accuracy: 97.500%\n",
            "Epoch 150: Loss: 0.114, Accuracy: 97.500%\n",
            "Epoch 200: Loss: 0.087, Accuracy: 98.333%\n",
            "Training Metrics:\n"
          ]
        },
        {
          "output_type": "display_data",
          "data": {
            "text/plain": [
              "<Figure size 864x576 with 2 Axes>"
            ],
            "image/png": "[encoded data removed]"
          },
          "metadata": {
            "needs_background": "light"
          }
        },
        {
          "output_type": "stream",
          "name": "stdout",
          "text": [
            "Testing...\n",
            "Test set accuracy: 96.667%\n",
            "tf.Tensor([1 2 0 1 1 1 0 1 1 2 2 0 2 1 1 0 1 0 0 2 0 1 2 1 1 1 0 1 2 1], shape=(30,), dtype=int32)\n",
            "Prediction Results:\n",
            "Example 0 prediction: Iris setosa (99.0%)\n",
            "Example 1 prediction: Iris versicolor (97.6%)\n",
            "Example 2 prediction: Iris virginica (83.9%)\n"
          ]
        }
      ]
    },
    {
      "cell_type": "code",
      "source": [
        "import timeit\n",
        "\n",
        "device_name = tf.test.gpu_device_name()\n",
        "if device_name != '/device:GPU:0':\n",
        "  print(\n",
        "      '\\n\\nThis error most likely means that this notebook is not '\n",
        "      'configured to use a GPU.  Change this in Notebook Settings via the '\n",
        "      'command palette (cmd/ctrl-shift-P) or the Edit menu.\\n\\n')\n",
        "  raise SystemError('GPU device not found')\n",
        "\n",
        "# Run the op several times.\n",
        "print('Time (s) to classify IRIS dataset\\n'\n",
        "      'Sum of ten runs.')\n",
        "print('CPU (s):')\n",
        "cpu_time = timeit.timeit('cpu(False)', number=1, setup=\"from __main__ import cpu\")\n",
        "print(cpu_time)\n",
        "print('GPU (s):')\n",
        "gpu_time = timeit.timeit('gpu(False)', number=1, setup=\"from __main__ import gpu\")\n",
        "print(gpu_time)\n",
        "print('GPU speedup over CPU: {}x'.format(int(cpu_time/gpu_time)))"
      ],
      "metadata": {
        "colab": {
          "base_uri": "https://localhost:8080/"
        },
        "id": "KumuV5OI-p9O",
        "outputId": "c29c3e0a-90d9-4d5e-ada9-77455356ecd1"
      },
      "execution_count": null,
      "outputs": [
        {
          "output_type": "stream",
          "name": "stdout",
          "text": [
            "Time (s) to classify IRIS dataset\n",
            "Sum of ten runs.\n",
            "CPU (s):\n",
            "15.232011254999975\n",
            "GPU (s):\n",
            "13.789674910000002\n",
            "GPU speedup over CPU: 1x\n"
          ]
        }
      ]
    }
  ]
}